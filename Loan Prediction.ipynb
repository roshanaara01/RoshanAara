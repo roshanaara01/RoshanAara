{
 "cells": [
  {
   "cell_type": "code",
   "execution_count": 1,
   "metadata": {},
   "outputs": [],
   "source": [
    "# importing of all required libraries\n",
    "import pandas as pd\n",
    "import numpy as np\n",
    "import matplotlib.pyplot as plt\n",
    "import seaborn as sns\n",
    "import warnings\n",
    "warnings.filterwarnings('ignore')"
   ]
  },
  {
   "cell_type": "code",
   "execution_count": 2,
   "metadata": {},
   "outputs": [],
   "source": [
    "# reading the csv files \n",
    "x_test=pd.read_csv('test_x.csv')\n",
    "x_train=pd.read_csv('train_x.csv')\n",
    "y_train=pd.read_csv(\"train_y.csv\")\n"
   ]
  },
  {
   "cell_type": "code",
   "execution_count": 3,
   "metadata": {},
   "outputs": [
    {
     "data": {
      "text/html": [
       "<div>\n",
       "<style scoped>\n",
       "    .dataframe tbody tr th:only-of-type {\n",
       "        vertical-align: middle;\n",
       "    }\n",
       "\n",
       "    .dataframe tbody tr th {\n",
       "        vertical-align: top;\n",
       "    }\n",
       "\n",
       "    .dataframe thead th {\n",
       "        text-align: right;\n",
       "    }\n",
       "</style>\n",
       "<table border=\"1\" class=\"dataframe\">\n",
       "  <thead>\n",
       "    <tr style=\"text-align: right;\">\n",
       "      <th></th>\n",
       "      <th>ID</th>\n",
       "      <th>Expense</th>\n",
       "      <th>Income</th>\n",
       "      <th>Age</th>\n",
       "      <th>Score1</th>\n",
       "      <th>Score2</th>\n",
       "      <th>Score3</th>\n",
       "      <th>Score4</th>\n",
       "      <th>Score5</th>\n",
       "    </tr>\n",
       "  </thead>\n",
       "  <tbody>\n",
       "    <tr>\n",
       "      <th>count</th>\n",
       "      <td>80000.000000</td>\n",
       "      <td>77956.000000</td>\n",
       "      <td>78045.000000</td>\n",
       "      <td>77986.000000</td>\n",
       "      <td>78060.000000</td>\n",
       "      <td>77964.000000</td>\n",
       "      <td>78045.000000</td>\n",
       "      <td>78028.000000</td>\n",
       "      <td>78002.000000</td>\n",
       "    </tr>\n",
       "    <tr>\n",
       "      <th>mean</th>\n",
       "      <td>40000.500000</td>\n",
       "      <td>1733.993769</td>\n",
       "      <td>15641.112448</td>\n",
       "      <td>0.441105</td>\n",
       "      <td>0.187617</td>\n",
       "      <td>192.065584</td>\n",
       "      <td>9.365450</td>\n",
       "      <td>600.397742</td>\n",
       "      <td>3417.740403</td>\n",
       "    </tr>\n",
       "    <tr>\n",
       "      <th>std</th>\n",
       "      <td>23094.155105</td>\n",
       "      <td>133.239147</td>\n",
       "      <td>1065.620737</td>\n",
       "      <td>0.496522</td>\n",
       "      <td>0.123509</td>\n",
       "      <td>28.558250</td>\n",
       "      <td>8.760134</td>\n",
       "      <td>3.826112</td>\n",
       "      <td>64.391844</td>\n",
       "    </tr>\n",
       "    <tr>\n",
       "      <th>min</th>\n",
       "      <td>1.000000</td>\n",
       "      <td>1126.809192</td>\n",
       "      <td>11171.703240</td>\n",
       "      <td>0.000000</td>\n",
       "      <td>-0.563328</td>\n",
       "      <td>40.572797</td>\n",
       "      <td>-28.885235</td>\n",
       "      <td>581.806404</td>\n",
       "      <td>3124.413430</td>\n",
       "    </tr>\n",
       "    <tr>\n",
       "      <th>25%</th>\n",
       "      <td>20000.750000</td>\n",
       "      <td>1644.263974</td>\n",
       "      <td>14925.658150</td>\n",
       "      <td>0.000000</td>\n",
       "      <td>0.112651</td>\n",
       "      <td>173.415940</td>\n",
       "      <td>3.514901</td>\n",
       "      <td>597.894759</td>\n",
       "      <td>3374.406833</td>\n",
       "    </tr>\n",
       "    <tr>\n",
       "      <th>50%</th>\n",
       "      <td>40000.500000</td>\n",
       "      <td>1736.276720</td>\n",
       "      <td>15624.259290</td>\n",
       "      <td>0.000000</td>\n",
       "      <td>0.189877</td>\n",
       "      <td>191.056193</td>\n",
       "      <td>8.883862</td>\n",
       "      <td>600.095436</td>\n",
       "      <td>3418.793524</td>\n",
       "    </tr>\n",
       "    <tr>\n",
       "      <th>75%</th>\n",
       "      <td>60000.250000</td>\n",
       "      <td>1824.376793</td>\n",
       "      <td>16346.084990</td>\n",
       "      <td>1.000000</td>\n",
       "      <td>0.265243</td>\n",
       "      <td>209.727593</td>\n",
       "      <td>14.746607</td>\n",
       "      <td>602.597131</td>\n",
       "      <td>3461.384283</td>\n",
       "    </tr>\n",
       "    <tr>\n",
       "      <th>max</th>\n",
       "      <td>80000.000000</td>\n",
       "      <td>2309.129903</td>\n",
       "      <td>20728.915330</td>\n",
       "      <td>1.000000</td>\n",
       "      <td>0.705737</td>\n",
       "      <td>338.073551</td>\n",
       "      <td>50.691479</td>\n",
       "      <td>619.623108</td>\n",
       "      <td>3692.731924</td>\n",
       "    </tr>\n",
       "  </tbody>\n",
       "</table>\n",
       "</div>"
      ],
      "text/plain": [
       "                 ID       Expense        Income           Age        Score1  \\\n",
       "count  80000.000000  77956.000000  78045.000000  77986.000000  78060.000000   \n",
       "mean   40000.500000   1733.993769  15641.112448      0.441105      0.187617   \n",
       "std    23094.155105    133.239147   1065.620737      0.496522      0.123509   \n",
       "min        1.000000   1126.809192  11171.703240      0.000000     -0.563328   \n",
       "25%    20000.750000   1644.263974  14925.658150      0.000000      0.112651   \n",
       "50%    40000.500000   1736.276720  15624.259290      0.000000      0.189877   \n",
       "75%    60000.250000   1824.376793  16346.084990      1.000000      0.265243   \n",
       "max    80000.000000   2309.129903  20728.915330      1.000000      0.705737   \n",
       "\n",
       "             Score2        Score3        Score4        Score5  \n",
       "count  77964.000000  78045.000000  78028.000000  78002.000000  \n",
       "mean     192.065584      9.365450    600.397742   3417.740403  \n",
       "std       28.558250      8.760134      3.826112     64.391844  \n",
       "min       40.572797    -28.885235    581.806404   3124.413430  \n",
       "25%      173.415940      3.514901    597.894759   3374.406833  \n",
       "50%      191.056193      8.883862    600.095436   3418.793524  \n",
       "75%      209.727593     14.746607    602.597131   3461.384283  \n",
       "max      338.073551     50.691479    619.623108   3692.731924  "
      ]
     },
     "execution_count": 3,
     "metadata": {},
     "output_type": "execute_result"
    }
   ],
   "source": [
    "# to check whether missing values are present in the dataset \n",
    "# from count row of below described data of xtrain we find all the columns except \"ID\" have missing values\n",
    "x_train.describe()"
   ]
  },
  {
   "cell_type": "code",
   "execution_count": 4,
   "metadata": {},
   "outputs": [
    {
     "data": {
      "text/html": [
       "<div>\n",
       "<style scoped>\n",
       "    .dataframe tbody tr th:only-of-type {\n",
       "        vertical-align: middle;\n",
       "    }\n",
       "\n",
       "    .dataframe tbody tr th {\n",
       "        vertical-align: top;\n",
       "    }\n",
       "\n",
       "    .dataframe thead th {\n",
       "        text-align: right;\n",
       "    }\n",
       "</style>\n",
       "<table border=\"1\" class=\"dataframe\">\n",
       "  <thead>\n",
       "    <tr style=\"text-align: right;\">\n",
       "      <th></th>\n",
       "      <th>ID</th>\n",
       "      <th>Label</th>\n",
       "    </tr>\n",
       "  </thead>\n",
       "  <tbody>\n",
       "    <tr>\n",
       "      <th>count</th>\n",
       "      <td>80000.000000</td>\n",
       "      <td>76097.000000</td>\n",
       "    </tr>\n",
       "    <tr>\n",
       "      <th>mean</th>\n",
       "      <td>40000.500000</td>\n",
       "      <td>0.066139</td>\n",
       "    </tr>\n",
       "    <tr>\n",
       "      <th>std</th>\n",
       "      <td>23094.155105</td>\n",
       "      <td>0.248527</td>\n",
       "    </tr>\n",
       "    <tr>\n",
       "      <th>min</th>\n",
       "      <td>1.000000</td>\n",
       "      <td>0.000000</td>\n",
       "    </tr>\n",
       "    <tr>\n",
       "      <th>25%</th>\n",
       "      <td>20000.750000</td>\n",
       "      <td>0.000000</td>\n",
       "    </tr>\n",
       "    <tr>\n",
       "      <th>50%</th>\n",
       "      <td>40000.500000</td>\n",
       "      <td>0.000000</td>\n",
       "    </tr>\n",
       "    <tr>\n",
       "      <th>75%</th>\n",
       "      <td>60000.250000</td>\n",
       "      <td>0.000000</td>\n",
       "    </tr>\n",
       "    <tr>\n",
       "      <th>max</th>\n",
       "      <td>80000.000000</td>\n",
       "      <td>1.000000</td>\n",
       "    </tr>\n",
       "  </tbody>\n",
       "</table>\n",
       "</div>"
      ],
      "text/plain": [
       "                 ID         Label\n",
       "count  80000.000000  76097.000000\n",
       "mean   40000.500000      0.066139\n",
       "std    23094.155105      0.248527\n",
       "min        1.000000      0.000000\n",
       "25%    20000.750000      0.000000\n",
       "50%    40000.500000      0.000000\n",
       "75%    60000.250000      0.000000\n",
       "max    80000.000000      1.000000"
      ]
     },
     "execution_count": 4,
     "metadata": {},
     "output_type": "execute_result"
    }
   ],
   "source": [
    "y_train.describe()\n",
    "# OUT OF 80000 VALUES \"LABEL\" COLUMN CONSISTS OF ONLY 76097 . WE CONCLUDE \"y_train\" HAVE MISSING DATA "
   ]
  },
  {
   "cell_type": "code",
   "execution_count": 5,
   "metadata": {},
   "outputs": [
    {
     "data": {
      "text/plain": [
       "<AxesSubplot:>"
      ]
     },
     "execution_count": 5,
     "metadata": {},
     "output_type": "execute_result"
    },
    {
     "data": {
      "image/png": "[encoded data removed]",
      "text/plain": [
       "<Figure size 432x288 with 1 Axes>"
      ]
     },
     "metadata": {
      "needs_background": "light"
     },
     "output_type": "display_data"
    }
   ],
   "source": [
    "# from the below plot the horizontal lines(yellow) indicates that some data is missing in x_train\n",
    "sns.heatmap(x_train.isnull(),yticklabels=False,cbar=False,cmap='viridis')"
   ]
  },
  {
   "cell_type": "markdown",
   "metadata": {},
   "source": [
    "# HANDLING THE MISSING DATA"
   ]
  },
  {
   "cell_type": "code",
   "execution_count": 6,
   "metadata": {},
   "outputs": [],
   "source": [
    "# all the missing values except the categorical columns (i.e [\"Loan type\",\"Occupation type\",\"Age\"]) are replaced with there \"mean\" value\n",
    "from sklearn.impute import SimpleImputer\n",
    "imputer=SimpleImputer(missing_values=np.nan,strategy=\"mean\")\n",
    "imputer=imputer.fit(x_train[['Expense', 'Income','Score1', 'Score2', 'Score3', 'Score4', 'Score5']])\n",
    "x_train[['Expense', 'Income','Score1', 'Score2', 'Score3', 'Score4', 'Score5']]=imputer.transform(x_train[['Expense', 'Income','Score1', 'Score2', 'Score3', 'Score4', 'Score5']])"
   ]
  },
  {
   "cell_type": "code",
   "execution_count": 7,
   "metadata": {},
   "outputs": [
    {
     "data": {
      "text/plain": [
       "<AxesSubplot:>"
      ]
     },
     "execution_count": 7,
     "metadata": {},
     "output_type": "execute_result"
    },
    {
     "data": {
      "image/png": "[encoded data removed]",
      "text/plain": [
       "<Figure size 432x288 with 1 Axes>"
      ]
     },
     "metadata": {
      "needs_background": "light"
     },
     "output_type": "display_data"
    }
   ],
   "source": [
    "sns.heatmap(x_train.isnull(),yticklabels=False,cbar=False,cmap='viridis')\n",
    "# from the below diagram we observe that only categorical columns (i.e [\"Loan type\",\"Occupation type\",\"Age\"]) have missing data"
   ]
  },
  {
   "cell_type": "code",
   "execution_count": 8,
   "metadata": {},
   "outputs": [],
   "source": [
    "# handling the missing values of categorical columns \n",
    "# replacing the values with \"most_frequently occured\" value of the specific column\n",
    "from sklearn.impute import SimpleImputer\n",
    "imputer=SimpleImputer(missing_values=np.nan,strategy=\"most_frequent\")\n",
    "imputer=imputer.fit(x_train[[\"Loan type\",\"Occupation type\",\"Age\"]])\n",
    "x_train[[\"Loan type\",\"Occupation type\",\"Age\"]]=imputer.transform(x_train[[\"Loan type\",\"Occupation type\",\"Age\"]])\n"
   ]
  },
  {
   "cell_type": "code",
   "execution_count": 9,
   "metadata": {},
   "outputs": [],
   "source": [
    "# handling the missing values of y_train\n",
    "from sklearn.impute import SimpleImputer\n",
    "imputer=SimpleImputer(missing_values=np.nan,strategy=\"most_frequent\")\n",
    "imputer=imputer.fit(y_train[[\"Label\"]])\n",
    "y_train[[\"Label\"]]=imputer.transform(y_train[[\"Label\"]])"
   ]
  },
  {
   "cell_type": "code",
   "execution_count": 10,
   "metadata": {},
   "outputs": [
    {
     "data": {
      "text/plain": [
       "<AxesSubplot:>"
      ]
     },
     "execution_count": 10,
     "metadata": {},
     "output_type": "execute_result"
    },
    {
     "data": {
      "image/png": "[encoded data removed]",
      "text/plain": [
       "<Figure size 432x288 with 1 Axes>"
      ]
     },
     "metadata": {
      "needs_background": "light"
     },
     "output_type": "display_data"
    }
   ],
   "source": [
    "sns.heatmap(x_train.isnull(),yticklabels=False,cbar=False,cmap='viridis')\n",
    "# from the below diagram we conclude all the missing values are handled "
   ]
  },
  {
   "cell_type": "markdown",
   "metadata": {},
   "source": [
    "# ENCODING THE CATEGORICAL DATA"
   ]
  },
  {
   "cell_type": "code",
   "execution_count": 11,
   "metadata": {},
   "outputs": [],
   "source": [
    "# ENCODING THE \"LOAN TYPE\" COLUMN ( i.e 1---->B, 0--->A)\n",
    "from sklearn.preprocessing import LabelEncoder\n",
    "le=LabelEncoder()\n",
    "x_train[\"Loan type\"]=le.fit_transform(x_train[\"Loan type\"])"
   ]
  },
  {
   "cell_type": "code",
   "execution_count": 12,
   "metadata": {},
   "outputs": [
    {
     "data": {
      "text/html": [
       "<div>\n",
       "<style scoped>\n",
       "    .dataframe tbody tr th:only-of-type {\n",
       "        vertical-align: middle;\n",
       "    }\n",
       "\n",
       "    .dataframe tbody tr th {\n",
       "        vertical-align: top;\n",
       "    }\n",
       "\n",
       "    .dataframe thead th {\n",
       "        text-align: right;\n",
       "    }\n",
       "</style>\n",
       "<table border=\"1\" class=\"dataframe\">\n",
       "  <thead>\n",
       "    <tr style=\"text-align: right;\">\n",
       "      <th></th>\n",
       "      <th>ID</th>\n",
       "      <th>Expense</th>\n",
       "      <th>Income</th>\n",
       "      <th>Loan type</th>\n",
       "      <th>Occupation type</th>\n",
       "      <th>Age</th>\n",
       "      <th>Score1</th>\n",
       "      <th>Score2</th>\n",
       "      <th>Score3</th>\n",
       "      <th>Score4</th>\n",
       "      <th>Score5</th>\n",
       "    </tr>\n",
       "  </thead>\n",
       "  <tbody>\n",
       "    <tr>\n",
       "      <th>0</th>\n",
       "      <td>1</td>\n",
       "      <td>1830.943788</td>\n",
       "      <td>14767.28013</td>\n",
       "      <td>1</td>\n",
       "      <td>Y</td>\n",
       "      <td>1.0</td>\n",
       "      <td>0.016885</td>\n",
       "      <td>205.196182</td>\n",
       "      <td>22.521523</td>\n",
       "      <td>600.911200</td>\n",
       "      <td>3464.613291</td>\n",
       "    </tr>\n",
       "    <tr>\n",
       "      <th>1</th>\n",
       "      <td>2</td>\n",
       "      <td>1645.302546</td>\n",
       "      <td>15272.26775</td>\n",
       "      <td>1</td>\n",
       "      <td>Y</td>\n",
       "      <td>0.0</td>\n",
       "      <td>0.240375</td>\n",
       "      <td>194.266317</td>\n",
       "      <td>5.349117</td>\n",
       "      <td>600.888816</td>\n",
       "      <td>3374.921455</td>\n",
       "    </tr>\n",
       "    <tr>\n",
       "      <th>2</th>\n",
       "      <td>3</td>\n",
       "      <td>1555.026392</td>\n",
       "      <td>17482.49734</td>\n",
       "      <td>0</td>\n",
       "      <td>Y</td>\n",
       "      <td>0.0</td>\n",
       "      <td>0.213921</td>\n",
       "      <td>183.529871</td>\n",
       "      <td>-1.054954</td>\n",
       "      <td>598.596944</td>\n",
       "      <td>3331.304886</td>\n",
       "    </tr>\n",
       "    <tr>\n",
       "      <th>3</th>\n",
       "      <td>4</td>\n",
       "      <td>1733.993769</td>\n",
       "      <td>16257.66493</td>\n",
       "      <td>0</td>\n",
       "      <td>Y</td>\n",
       "      <td>0.0</td>\n",
       "      <td>0.303909</td>\n",
       "      <td>191.228965</td>\n",
       "      <td>6.971750</td>\n",
       "      <td>602.447203</td>\n",
       "      <td>3392.275849</td>\n",
       "    </tr>\n",
       "    <tr>\n",
       "      <th>4</th>\n",
       "      <td>5</td>\n",
       "      <td>1777.648916</td>\n",
       "      <td>16316.29914</td>\n",
       "      <td>1</td>\n",
       "      <td>X</td>\n",
       "      <td>1.0</td>\n",
       "      <td>0.187617</td>\n",
       "      <td>224.074728</td>\n",
       "      <td>11.218489</td>\n",
       "      <td>605.947340</td>\n",
       "      <td>3438.864083</td>\n",
       "    </tr>\n",
       "  </tbody>\n",
       "</table>\n",
       "</div>"
      ],
      "text/plain": [
       "   ID      Expense       Income  Loan type Occupation type  Age    Score1  \\\n",
       "0   1  1830.943788  14767.28013          1               Y  1.0  0.016885   \n",
       "1   2  1645.302546  15272.26775          1               Y  0.0  0.240375   \n",
       "2   3  1555.026392  17482.49734          0               Y  0.0  0.213921   \n",
       "3   4  1733.993769  16257.66493          0               Y  0.0  0.303909   \n",
       "4   5  1777.648916  16316.29914          1               X  1.0  0.187617   \n",
       "\n",
       "       Score2     Score3      Score4       Score5  \n",
       "0  205.196182  22.521523  600.911200  3464.613291  \n",
       "1  194.266317   5.349117  600.888816  3374.921455  \n",
       "2  183.529871  -1.054954  598.596944  3331.304886  \n",
       "3  191.228965   6.971750  602.447203  3392.275849  \n",
       "4  224.074728  11.218489  605.947340  3438.864083  "
      ]
     },
     "execution_count": 12,
     "metadata": {},
     "output_type": "execute_result"
    }
   ],
   "source": [
    "x_train.head()\n",
    "# we conclude the \"Loan type\" column data has encoded (i.e  B as 1, A as 0 )"
   ]
  },
  {
   "cell_type": "code",
   "execution_count": 13,
   "metadata": {},
   "outputs": [
    {
     "data": {
      "text/html": [
       "<div>\n",
       "<style scoped>\n",
       "    .dataframe tbody tr th:only-of-type {\n",
       "        vertical-align: middle;\n",
       "    }\n",
       "\n",
       "    .dataframe tbody tr th {\n",
       "        vertical-align: top;\n",
       "    }\n",
       "\n",
       "    .dataframe thead th {\n",
       "        text-align: right;\n",
       "    }\n",
       "</style>\n",
       "<table border=\"1\" class=\"dataframe\">\n",
       "  <thead>\n",
       "    <tr style=\"text-align: right;\">\n",
       "      <th></th>\n",
       "      <th>Y</th>\n",
       "      <th>Z</th>\n",
       "    </tr>\n",
       "  </thead>\n",
       "  <tbody>\n",
       "    <tr>\n",
       "      <th>0</th>\n",
       "      <td>1</td>\n",
       "      <td>0</td>\n",
       "    </tr>\n",
       "    <tr>\n",
       "      <th>1</th>\n",
       "      <td>1</td>\n",
       "      <td>0</td>\n",
       "    </tr>\n",
       "    <tr>\n",
       "      <th>2</th>\n",
       "      <td>1</td>\n",
       "      <td>0</td>\n",
       "    </tr>\n",
       "    <tr>\n",
       "      <th>3</th>\n",
       "      <td>1</td>\n",
       "      <td>0</td>\n",
       "    </tr>\n",
       "    <tr>\n",
       "      <th>4</th>\n",
       "      <td>0</td>\n",
       "      <td>0</td>\n",
       "    </tr>\n",
       "  </tbody>\n",
       "</table>\n",
       "</div>"
      ],
      "text/plain": [
       "   Y  Z\n",
       "0  1  0\n",
       "1  1  0\n",
       "2  1  0\n",
       "3  1  0\n",
       "4  0  0"
      ]
     },
     "execution_count": 13,
     "metadata": {},
     "output_type": "execute_result"
    }
   ],
   "source": [
    "# \"occupation type\" column having three categories so we cant handle this as we handled in\"Loan type\"\n",
    "# column . here we try to skip any one category . if remaining two categories are (0,0) then that represents skiped category\n",
    "# i.e get_dummies does this for us\n",
    "xtrain=pd.get_dummies(x_train[\"Occupation type\"],drop_first=True)\n",
    "xtrain.head()\n",
    "# we conclude here X category is removed and first row having (1,0) belongs to Y category\n",
    "# and fourth row having (0,0) belongs to X category"
   ]
  },
  {
   "cell_type": "code",
   "execution_count": 14,
   "metadata": {},
   "outputs": [
    {
     "data": {
      "text/html": [
       "<div>\n",
       "<style scoped>\n",
       "    .dataframe tbody tr th:only-of-type {\n",
       "        vertical-align: middle;\n",
       "    }\n",
       "\n",
       "    .dataframe tbody tr th {\n",
       "        vertical-align: top;\n",
       "    }\n",
       "\n",
       "    .dataframe thead th {\n",
       "        text-align: right;\n",
       "    }\n",
       "</style>\n",
       "<table border=\"1\" class=\"dataframe\">\n",
       "  <thead>\n",
       "    <tr style=\"text-align: right;\">\n",
       "      <th></th>\n",
       "      <th>Y</th>\n",
       "      <th>Z</th>\n",
       "      <th>ID</th>\n",
       "      <th>Expense</th>\n",
       "      <th>Income</th>\n",
       "      <th>Loan type</th>\n",
       "      <th>Age</th>\n",
       "      <th>Score1</th>\n",
       "      <th>Score2</th>\n",
       "      <th>Score3</th>\n",
       "      <th>Score4</th>\n",
       "      <th>Score5</th>\n",
       "    </tr>\n",
       "  </thead>\n",
       "  <tbody>\n",
       "    <tr>\n",
       "      <th>0</th>\n",
       "      <td>1</td>\n",
       "      <td>0</td>\n",
       "      <td>1</td>\n",
       "      <td>1830.943788</td>\n",
       "      <td>14767.28013</td>\n",
       "      <td>1</td>\n",
       "      <td>1.0</td>\n",
       "      <td>0.016885</td>\n",
       "      <td>205.196182</td>\n",
       "      <td>22.521523</td>\n",
       "      <td>600.911200</td>\n",
       "      <td>3464.613291</td>\n",
       "    </tr>\n",
       "    <tr>\n",
       "      <th>1</th>\n",
       "      <td>1</td>\n",
       "      <td>0</td>\n",
       "      <td>2</td>\n",
       "      <td>1645.302546</td>\n",
       "      <td>15272.26775</td>\n",
       "      <td>1</td>\n",
       "      <td>0.0</td>\n",
       "      <td>0.240375</td>\n",
       "      <td>194.266317</td>\n",
       "      <td>5.349117</td>\n",
       "      <td>600.888816</td>\n",
       "      <td>3374.921455</td>\n",
       "    </tr>\n",
       "    <tr>\n",
       "      <th>2</th>\n",
       "      <td>1</td>\n",
       "      <td>0</td>\n",
       "      <td>3</td>\n",
       "      <td>1555.026392</td>\n",
       "      <td>17482.49734</td>\n",
       "      <td>0</td>\n",
       "      <td>0.0</td>\n",
       "      <td>0.213921</td>\n",
       "      <td>183.529871</td>\n",
       "      <td>-1.054954</td>\n",
       "      <td>598.596944</td>\n",
       "      <td>3331.304886</td>\n",
       "    </tr>\n",
       "    <tr>\n",
       "      <th>3</th>\n",
       "      <td>1</td>\n",
       "      <td>0</td>\n",
       "      <td>4</td>\n",
       "      <td>1733.993769</td>\n",
       "      <td>16257.66493</td>\n",
       "      <td>0</td>\n",
       "      <td>0.0</td>\n",
       "      <td>0.303909</td>\n",
       "      <td>191.228965</td>\n",
       "      <td>6.971750</td>\n",
       "      <td>602.447203</td>\n",
       "      <td>3392.275849</td>\n",
       "    </tr>\n",
       "    <tr>\n",
       "      <th>4</th>\n",
       "      <td>0</td>\n",
       "      <td>0</td>\n",
       "      <td>5</td>\n",
       "      <td>1777.648916</td>\n",
       "      <td>16316.29914</td>\n",
       "      <td>1</td>\n",
       "      <td>1.0</td>\n",
       "      <td>0.187617</td>\n",
       "      <td>224.074728</td>\n",
       "      <td>11.218489</td>\n",
       "      <td>605.947340</td>\n",
       "      <td>3438.864083</td>\n",
       "    </tr>\n",
       "  </tbody>\n",
       "</table>\n",
       "</div>"
      ],
      "text/plain": [
       "   Y  Z  ID      Expense       Income  Loan type  Age    Score1      Score2  \\\n",
       "0  1  0   1  1830.943788  14767.28013          1  1.0  0.016885  205.196182   \n",
       "1  1  0   2  1645.302546  15272.26775          1  0.0  0.240375  194.266317   \n",
       "2  1  0   3  1555.026392  17482.49734          0  0.0  0.213921  183.529871   \n",
       "3  1  0   4  1733.993769  16257.66493          0  0.0  0.303909  191.228965   \n",
       "4  0  0   5  1777.648916  16316.29914          1  1.0  0.187617  224.074728   \n",
       "\n",
       "      Score3      Score4       Score5  \n",
       "0  22.521523  600.911200  3464.613291  \n",
       "1   5.349117  600.888816  3374.921455  \n",
       "2  -1.054954  598.596944  3331.304886  \n",
       "3   6.971750  602.447203  3392.275849  \n",
       "4  11.218489  605.947340  3438.864083  "
      ]
     },
     "execution_count": 14,
     "metadata": {},
     "output_type": "execute_result"
    }
   ],
   "source": [
    "# we have replaced the Occupation type column with the two categories i.e(Y,Z)\n",
    "x_train=pd.concat([xtrain,x_train],axis=1)\n",
    "x_train.drop(\"Occupation type\",axis=1,inplace=True)\n",
    "x_train.head()"
   ]
  },
  {
   "cell_type": "code",
   "execution_count": 15,
   "metadata": {},
   "outputs": [],
   "source": [
    "# all the data have preprocessed and we have stored all the given trained data in x and y..\n",
    "# we can use this x and y data for training and testing the models\n",
    "x=x_train[[\"ID\",\"Expense\",\"Income\",\"Loan type\",\"Y\",\"Z\",\"Age\",\"Score1\",\"Score2\",\"Score3\",\"Score4\",\"Score5\"]]\n",
    "y=y_train[[\"Label\"]]"
   ]
  },
  {
   "cell_type": "code",
   "execution_count": 16,
   "metadata": {},
   "outputs": [],
   "source": [
    "# split the data into train set and test set\n",
    "from sklearn.model_selection import train_test_split\n",
    "x_train,x_test,y_train,y_test=train_test_split(x,y,test_size=0.20,random_state=0)\n",
    "# here all the data have been split into 80% training_set and 20% for testing the model"
   ]
  },
  {
   "cell_type": "code",
   "execution_count": 17,
   "metadata": {},
   "outputs": [],
   "source": [
    "#feature scaling the data for better accuracy\n",
    "#normalisation here using the gaussian distribution\n",
    "from sklearn.preprocessing import StandardScaler\n",
    "sc=StandardScaler()\n",
    "x_train=sc.fit_transform(x_train)\n",
    "x_test=sc.transform(x_test)"
   ]
  },
  {
   "cell_type": "markdown",
   "metadata": {},
   "source": [
    "## FITTING THE DATA TO ALL CLASSIFICATION MODELS "
   ]
  },
  {
   "cell_type": "markdown",
   "metadata": {},
   "source": [
    "##### LOGISTIC REGRESSION"
   ]
  },
  {
   "cell_type": "code",
   "execution_count": 18,
   "metadata": {},
   "outputs": [
    {
     "data": {
      "text/plain": [
       "LogisticRegression()"
      ]
     },
     "execution_count": 18,
     "metadata": {},
     "output_type": "execute_result"
    }
   ],
   "source": [
    "# fitting the logistic regression to the trainig set\n",
    "from sklearn.linear_model import LogisticRegression\n",
    "classifier=LogisticRegression(solver=\"lbfgs\")\n",
    "classifier.fit(x_train,y_train)\n"
   ]
  },
  {
   "cell_type": "code",
   "execution_count": 19,
   "metadata": {},
   "outputs": [
    {
     "name": "stdout",
     "output_type": "stream",
     "text": [
      "[0. 0. 0. ... 0. 0. 0.]\n"
     ]
    }
   ],
   "source": [
    "# predicting the test set results\n",
    "y_predict=classifier.predict(x_test)\n",
    "print(y_predict)"
   ]
  },
  {
   "cell_type": "code",
   "execution_count": 20,
   "metadata": {},
   "outputs": [
    {
     "name": "stdout",
     "output_type": "stream",
     "text": [
      "[[14908    79]\n",
      " [  574   439]]\n",
      "\n",
      "Accuracy: 95.92\n"
     ]
    }
   ],
   "source": [
    "# FINDING THE ACCURACY OF THE MODEL\n",
    "from sklearn.metrics import confusion_matrix,accuracy_score\n",
    "cm=confusion_matrix(y_test,y_predict)\n",
    "accuracy=accuracy_score(y_test,y_predict)\n",
    "print(cm)\n",
    "print()\n",
    "print(\"Accuracy: %.2f\" % (accuracy*100))"
   ]
  },
  {
   "cell_type": "markdown",
   "metadata": {},
   "source": [
    "##### KNEIGHBORS CLASSIFICATION"
   ]
  },
  {
   "cell_type": "code",
   "execution_count": 21,
   "metadata": {},
   "outputs": [
    {
     "data": {
      "text/plain": [
       "KNeighborsClassifier()"
      ]
     },
     "execution_count": 21,
     "metadata": {},
     "output_type": "execute_result"
    }
   ],
   "source": [
    "# fitting the KNeighborsClassifier to training data\n",
    "from sklearn.neighbors import KNeighborsClassifier\n",
    "classifier=KNeighborsClassifier()\n",
    "classifier.fit(x_train,y_train)"
   ]
  },
  {
   "cell_type": "code",
   "execution_count": 22,
   "metadata": {},
   "outputs": [
    {
     "data": {
      "text/plain": [
       "array([0., 0., 0., ..., 0., 0., 0.])"
      ]
     },
     "execution_count": 22,
     "metadata": {},
     "output_type": "execute_result"
    }
   ],
   "source": [
    "# predicting the test set results\n",
    "y_predict=classifier.predict(x_test)\n",
    "y_predict"
   ]
  },
  {
   "cell_type": "code",
   "execution_count": 23,
   "metadata": {},
   "outputs": [
    {
     "name": "stdout",
     "output_type": "stream",
     "text": [
      "[[14904    83]\n",
      " [  255   758]]\n",
      "\n",
      "Accuracy: 97.89\n"
     ]
    }
   ],
   "source": [
    "# FINDING THE ACCURACY OF THE MODEL\n",
    "from sklearn.metrics import confusion_matrix,accuracy_score\n",
    "cm=confusion_matrix(y_test,y_predict)\n",
    "accuracy=accuracy_score(y_test,y_predict)\n",
    "print(cm)\n",
    "print()\n",
    "print(\"Accuracy: %.2f\" % (accuracy*100))"
   ]
  },
  {
   "cell_type": "markdown",
   "metadata": {},
   "source": [
    "#### SUPPORT VECTOR CLASSIFICATION (SVC)"
   ]
  },
  {
   "cell_type": "code",
   "execution_count": 24,
   "metadata": {},
   "outputs": [
    {
     "data": {
      "text/plain": [
       "SVC(random_state=0)"
      ]
     },
     "execution_count": 24,
     "metadata": {},
     "output_type": "execute_result"
    }
   ],
   "source": [
    "# fitting the svc trainig data\n",
    "from sklearn.svm import SVC\n",
    "classifier=SVC(kernel=\"rbf\",random_state=0)\n",
    "classifier.fit(x_train,y_train)"
   ]
  },
  {
   "cell_type": "code",
   "execution_count": 25,
   "metadata": {},
   "outputs": [
    {
     "data": {
      "text/plain": [
       "array([0., 0., 0., ..., 0., 0., 0.])"
      ]
     },
     "execution_count": 25,
     "metadata": {},
     "output_type": "execute_result"
    }
   ],
   "source": [
    "# predicting the test set results\n",
    "y_predict=classifier.predict(x_test)\n",
    "y_predict"
   ]
  },
  {
   "cell_type": "code",
   "execution_count": 26,
   "metadata": {},
   "outputs": [
    {
     "name": "stdout",
     "output_type": "stream",
     "text": [
      "[[14925    62]\n",
      " [  282   731]]\n",
      "\n",
      "Accuracy: 97.85\n"
     ]
    }
   ],
   "source": [
    "# FINDING THE ACCURACY OF THE MODEL\n",
    "from sklearn.metrics import confusion_matrix,accuracy_score\n",
    "cm=confusion_matrix(y_test,y_predict)\n",
    "accuracy=accuracy_score(y_test,y_predict)\n",
    "print(cm)\n",
    "print()\n",
    "print(\"Accuracy: %.2f\" % (accuracy*100))"
   ]
  },
  {
   "cell_type": "markdown",
   "metadata": {},
   "source": [
    "#### DECISION TREE CLASSIFICATION"
   ]
  },
  {
   "cell_type": "code",
   "execution_count": 27,
   "metadata": {},
   "outputs": [
    {
     "data": {
      "text/plain": [
       "DecisionTreeClassifier(random_state=0)"
      ]
     },
     "execution_count": 27,
     "metadata": {},
     "output_type": "execute_result"
    }
   ],
   "source": [
    "# fitting the decision tress classifier to data\n",
    "from sklearn.tree import DecisionTreeClassifier\n",
    "classifier= DecisionTreeClassifier(criterion=\"gini\",random_state=0)  \n",
    "classifier.fit(x_train,y_train)"
   ]
  },
  {
   "cell_type": "code",
   "execution_count": 28,
   "metadata": {},
   "outputs": [
    {
     "data": {
      "text/plain": [
       "array([0., 0., 0., ..., 0., 0., 0.])"
      ]
     },
     "execution_count": 28,
     "metadata": {},
     "output_type": "execute_result"
    }
   ],
   "source": [
    "# predicting the test set results\n",
    "y_predict=classifier.predict(x_test)\n",
    "y_predict"
   ]
  },
  {
   "cell_type": "code",
   "execution_count": 29,
   "metadata": {},
   "outputs": [
    {
     "name": "stdout",
     "output_type": "stream",
     "text": [
      "[[14761   226]\n",
      " [  255   758]]\n",
      "\n",
      "Accuracy: 96.99\n"
     ]
    }
   ],
   "source": [
    "# FINDING THE ACCURACY OF THE MODEL\n",
    "from sklearn.metrics import confusion_matrix,accuracy_score\n",
    "cm=confusion_matrix(y_test,y_predict)\n",
    "accuracy=accuracy_score(y_test,y_predict)\n",
    "print(cm)\n",
    "print()\n",
    "print(\"Accuracy: %.2f\" % (accuracy*100))"
   ]
  },
  {
   "cell_type": "markdown",
   "metadata": {},
   "source": [
    "#### RANDOM FOREST CLASSIFICATION"
   ]
  },
  {
   "cell_type": "code",
   "execution_count": 30,
   "metadata": {},
   "outputs": [
    {
     "data": {
      "text/plain": [
       "RandomForestClassifier(n_estimators=10, random_state=0)"
      ]
     },
     "execution_count": 30,
     "metadata": {},
     "output_type": "execute_result"
    }
   ],
   "source": [
    "# fitting the random forest clasifier to the data\n",
    "from sklearn.ensemble import RandomForestClassifier\n",
    "classifier= RandomForestClassifier(n_estimators=10,criterion=\"gini\",random_state=0)\n",
    "classifier.fit(x_train,y_train)"
   ]
  },
  {
   "cell_type": "code",
   "execution_count": 31,
   "metadata": {},
   "outputs": [
    {
     "data": {
      "text/plain": [
       "array([0., 0., 0., ..., 0., 0., 0.])"
      ]
     },
     "execution_count": 31,
     "metadata": {},
     "output_type": "execute_result"
    }
   ],
   "source": [
    "# predicting the test set results\n",
    "y_predict=classifier.predict(x_test)\n",
    "y_predict"
   ]
  },
  {
   "cell_type": "code",
   "execution_count": 32,
   "metadata": {},
   "outputs": [
    {
     "name": "stdout",
     "output_type": "stream",
     "text": [
      "[[14913    74]\n",
      " [  270   743]]\n",
      "\n",
      "Accuracy: 97.85\n"
     ]
    }
   ],
   "source": [
    "# FINDING THE ACCURACY OF THE MODEL\n",
    "from sklearn.metrics import confusion_matrix,accuracy_score\n",
    "cm=confusion_matrix(y_test,y_predict)\n",
    "accuracy=accuracy_score(y_test,y_predict)\n",
    "print(cm)\n",
    "print()\n",
    "print(\"Accuracy: %.2f\" % (accuracy*100))"
   ]
  },
  {
   "cell_type": "markdown",
   "metadata": {},
   "source": [
    "#### NAIVE BAYES CLASSIFICATION"
   ]
  },
  {
   "cell_type": "code",
   "execution_count": 33,
   "metadata": {},
   "outputs": [
    {
     "data": {
      "text/plain": [
       "GaussianNB()"
      ]
     },
     "execution_count": 33,
     "metadata": {},
     "output_type": "execute_result"
    }
   ],
   "source": [
    "# Fitting Naive Bayes to the Training set\n",
    "from sklearn.naive_bayes import GaussianNB\n",
    "classifier=GaussianNB()\n",
    "classifier.fit(x_train,y_train)"
   ]
  },
  {
   "cell_type": "code",
   "execution_count": 34,
   "metadata": {},
   "outputs": [
    {
     "data": {
      "text/plain": [
       "array([0., 0., 0., ..., 0., 0., 0.])"
      ]
     },
     "execution_count": 34,
     "metadata": {},
     "output_type": "execute_result"
    }
   ],
   "source": [
    "# predicting the test set results\n",
    "y_predict=classifier.predict(x_test)\n",
    "y_predict"
   ]
  },
  {
   "cell_type": "code",
   "execution_count": 35,
   "metadata": {},
   "outputs": [
    {
     "name": "stdout",
     "output_type": "stream",
     "text": [
      "[[14923    64]\n",
      " [  573   440]]\n",
      "\n",
      "Accuracy: 96.02\n"
     ]
    }
   ],
   "source": [
    "# FINDING THE ACCURACY OF THE MODEL\n",
    "from sklearn.metrics import confusion_matrix,accuracy_score\n",
    "cm=confusion_matrix(y_test,y_predict)\n",
    "accuracy=accuracy_score(y_test,y_predict)\n",
    "print(cm)\n",
    "print()\n",
    "print(\"Accuracy: %.2f\" % (accuracy*100))"
   ]
  },
  {
   "cell_type": "markdown",
   "metadata": {},
   "source": [
    "## Conclusions on the above models :\n",
    "Random Forest Classifier, Support Vector Classifier and KNeighbors Classifier provide better accuracy compared to all other classification models ..\n",
    "KNeighbors Classifier is the best classifier for the given data"
   ]
  },
  {
   "cell_type": "markdown",
   "metadata": {},
   "source": [
    "### FEATURES SELECTION"
   ]
  },
  {
   "cell_type": "markdown",
   "metadata": {},
   "source": [
    "##### Univariate Selection"
   ]
  },
  {
   "cell_type": "code",
   "execution_count": 36,
   "metadata": {},
   "outputs": [],
   "source": [
    "import pandas as pd\n",
    "import numpy as np\n",
    "from sklearn.feature_selection import SelectKBest\n",
    "from sklearn.feature_selection import f_classif\n",
    "X=x[[\"ID\",\"Expense\",\"Income\",\"Loan type\",\"Y\",\"Z\",\"Age\",\"Score1\",\"Score2\",\"Score3\",\"Score4\",\"Score5\"]]\n",
    "Y=y[[\"Label\"]]"
   ]
  },
  {
   "cell_type": "code",
   "execution_count": 37,
   "metadata": {},
   "outputs": [],
   "source": [
    "#apply SelectKBest class to extract top 10 best features\n",
    "bestfeatures = SelectKBest(score_func=f_classif, k=6)\n",
    "fit = bestfeatures.fit(X,Y)\n",
    "dfscores = pd.DataFrame(fit.scores_)\n",
    "dfcolumns = pd.DataFrame(X.columns)"
   ]
  },
  {
   "cell_type": "code",
   "execution_count": 38,
   "metadata": {},
   "outputs": [
    {
     "name": "stdout",
     "output_type": "stream",
     "text": [
      "      Species       Scores\n",
      "0          ID     2.722196\n",
      "1     Expense  2908.387304\n",
      "2      Income  3719.147002\n",
      "3   Loan type   665.945897\n",
      "4           Y     3.241562\n",
      "5           Z   294.229013\n",
      "6         Age   393.509012\n",
      "7      Score1  1469.917741\n",
      "8      Score2   525.729914\n",
      "9      Score3   263.827763\n",
      "10     Score4   753.029506\n",
      "11     Score5  2889.807629\n"
     ]
    }
   ],
   "source": [
    "#concat two dataframes for better visualization \n",
    "featureScores = pd.concat([dfcolumns,dfscores],axis=1)\n",
    "#concat two dataframes for better visualization \n",
    "featureScores = pd.concat([dfcolumns,dfscores],axis=1)\n",
    "featureScores.columns = ['Species','Scores'] \n",
    "print(featureScores)"
   ]
  },
  {
   "cell_type": "markdown",
   "metadata": {},
   "source": [
    "#### Feature Importance"
   ]
  },
  {
   "cell_type": "code",
   "execution_count": 39,
   "metadata": {},
   "outputs": [
    {
     "name": "stdout",
     "output_type": "stream",
     "text": [
      "[0.03868263 0.13080591 0.14754158 0.0287686  0.01549409 0.04300335\n",
      " 0.02181581 0.15483734 0.06433975 0.13485762 0.09136266 0.12849068]\n"
     ]
    }
   ],
   "source": [
    "from sklearn.ensemble import ExtraTreesClassifier\n",
    "import matplotlib.pyplot as plt\n",
    "model = ExtraTreesClassifier()\n",
    "model.fit(X,Y)\n",
    "print(model.feature_importances_)"
   ]
  },
  {
   "cell_type": "code",
   "execution_count": 40,
   "metadata": {},
   "outputs": [
    {
     "data": {
      "image/png": "[encoded data removed]",
      "text/plain": [
       "<Figure size 432x288 with 1 Axes>"
      ]
     },
     "metadata": {
      "needs_background": "light"
     },
     "output_type": "display_data"
    }
   ],
   "source": [
    "#plot graph of feature importances for better visualization\n",
    "feat_importances = pd.Series(model.feature_importances_, index=X.columns)\n",
    "feat_importances.nlargest(12).plot(kind='barh')\n",
    "plt.show()"
   ]
  },
  {
   "cell_type": "markdown",
   "metadata": {},
   "source": [
    "#### Correlation Matrix With Heatmap"
   ]
  },
  {
   "cell_type": "code",
   "execution_count": 41,
   "metadata": {},
   "outputs": [
    {
     "data": {
      "image/png": "[encoded data removed]",
      "text/plain": [
       "<Figure size 1440x1440 with 2 Axes>"
      ]
     },
     "metadata": {
      "needs_background": "light"
     },
     "output_type": "display_data"
    }
   ],
   "source": [
    "data=pd.concat([X,Y],axis=1)\n",
    "import seaborn as sns\n",
    "#get correlations of each features in dataset\n",
    "cor_mat = data.corr()\n",
    "top_corr_features = cor_mat.index\n",
    "plt.figure(figsize=(20,20))\n",
    "#plot heat map\n",
    "g=sns.heatmap(data[top_corr_features].corr(),annot=True,cmap=\"RdYlGn\")"
   ]
  },
  {
   "cell_type": "markdown",
   "metadata": {},
   "source": [
    "##  Checking The Accuracy After Feature Selection"
   ]
  },
  {
   "cell_type": "code",
   "execution_count": 42,
   "metadata": {},
   "outputs": [],
   "source": [
    "featured_X=X[[\"Income\",\"Expense\",\"Score1\",\"Score2\",\"Loan type\",\"Score4\",\"Score5\",\"Score3\"]]\n",
    "featured_Y=Y[[\"Label\"]]"
   ]
  },
  {
   "cell_type": "code",
   "execution_count": 43,
   "metadata": {},
   "outputs": [],
   "source": [
    "# split the data into train set and test set\n",
    "from sklearn.model_selection import train_test_split\n",
    "x_train,x_test,y_train,y_test=train_test_split(featured_X,featured_Y,test_size=0.20,random_state=0)\n"
   ]
  },
  {
   "cell_type": "code",
   "execution_count": 44,
   "metadata": {},
   "outputs": [],
   "source": [
    "#feature scaling the data\n",
    "# normalisation here using the gaussian distribution\n",
    "from sklearn.preprocessing import StandardScaler\n",
    "sc=StandardScaler()\n",
    "x_train=sc.fit_transform(x_train)\n",
    "x_test=sc.transform(x_test)\n"
   ]
  },
  {
   "cell_type": "markdown",
   "metadata": {},
   "source": [
    "#### KNEIGHBORS CLASSIFIER"
   ]
  },
  {
   "cell_type": "code",
   "execution_count": 45,
   "metadata": {},
   "outputs": [
    {
     "data": {
      "text/plain": [
       "KNeighborsClassifier()"
      ]
     },
     "execution_count": 45,
     "metadata": {},
     "output_type": "execute_result"
    }
   ],
   "source": [
    "# fitting the KNeighborsClassifier to training data\n",
    "from sklearn.neighbors import KNeighborsClassifier\n",
    "classifier=KNeighborsClassifier()\n",
    "classifier.fit(x_train,y_train)"
   ]
  },
  {
   "cell_type": "code",
   "execution_count": 46,
   "metadata": {},
   "outputs": [
    {
     "data": {
      "text/plain": [
       "array([0., 0., 0., ..., 0., 0., 0.])"
      ]
     },
     "execution_count": 46,
     "metadata": {},
     "output_type": "execute_result"
    }
   ],
   "source": [
    "# predicting the test set results\n",
    "y_predict=classifier.predict(x_test)\n",
    "y_predict"
   ]
  },
  {
   "cell_type": "code",
   "execution_count": 47,
   "metadata": {},
   "outputs": [
    {
     "name": "stdout",
     "output_type": "stream",
     "text": [
      "[[14903    84]\n",
      " [  204   809]]\n",
      "\n",
      "Accuracy: 98.20\n"
     ]
    }
   ],
   "source": [
    "# FINDING THE ACCURACY OF THE MODEL\n",
    "from sklearn.metrics import confusion_matrix,accuracy_score\n",
    "cm=confusion_matrix(y_test,y_predict)\n",
    "accuracy=accuracy_score(y_test,y_predict)\n",
    "print(cm)\n",
    "print()\n",
    "print(\"Accuracy: %.2f\" % (accuracy*100))"
   ]
  },
  {
   "cell_type": "markdown",
   "metadata": {},
   "source": [
    "### Support Vector Classifier"
   ]
  },
  {
   "cell_type": "code",
   "execution_count": 48,
   "metadata": {},
   "outputs": [
    {
     "data": {
      "text/plain": [
       "SVC(random_state=0)"
      ]
     },
     "execution_count": 48,
     "metadata": {},
     "output_type": "execute_result"
    }
   ],
   "source": [
    "# fitting the svc trainig data\n",
    "from sklearn.svm import SVC\n",
    "classifier=SVC(kernel=\"rbf\",random_state=0)\n",
    "classifier.fit(x_train,y_train)"
   ]
  },
  {
   "cell_type": "code",
   "execution_count": 49,
   "metadata": {},
   "outputs": [
    {
     "data": {
      "text/plain": [
       "array([0., 0., 0., ..., 0., 0., 0.])"
      ]
     },
     "execution_count": 49,
     "metadata": {},
     "output_type": "execute_result"
    }
   ],
   "source": [
    "# predicting the test set results\n",
    "y_predict=classifier.predict(x_test)\n",
    "y_predict"
   ]
  },
  {
   "cell_type": "code",
   "execution_count": 50,
   "metadata": {},
   "outputs": [
    {
     "name": "stdout",
     "output_type": "stream",
     "text": [
      "[[14922    65]\n",
      " [  258   755]]\n",
      "\n",
      "Accuracy: 97.98\n"
     ]
    }
   ],
   "source": [
    "# FINDING THE ACCURACY OF THE MODEL\n",
    "from sklearn.metrics import confusion_matrix,accuracy_score\n",
    "cm=confusion_matrix(y_test,y_predict)\n",
    "accuracy=accuracy_score(y_test,y_predict)\n",
    "print(cm)\n",
    "print()\n",
    "print(\"Accuracy: %.2f\" % (accuracy*100))"
   ]
  },
  {
   "cell_type": "markdown",
   "metadata": {},
   "source": [
    "### Random Forest Classifier"
   ]
  },
  {
   "cell_type": "code",
   "execution_count": 51,
   "metadata": {},
   "outputs": [
    {
     "data": {
      "text/plain": [
       "RandomForestClassifier(n_estimators=10, random_state=0)"
      ]
     },
     "execution_count": 51,
     "metadata": {},
     "output_type": "execute_result"
    }
   ],
   "source": [
    "# fitting the random forest clasifier to the data\n",
    "from sklearn.ensemble import RandomForestClassifier\n",
    "classifier= RandomForestClassifier(n_estimators=10,criterion=\"gini\",random_state=0)\n",
    "classifier.fit(x_train,y_train)"
   ]
  },
  {
   "cell_type": "code",
   "execution_count": 52,
   "metadata": {},
   "outputs": [
    {
     "data": {
      "text/plain": [
       "array([0., 0., 0., ..., 0., 0., 0.])"
      ]
     },
     "execution_count": 52,
     "metadata": {},
     "output_type": "execute_result"
    }
   ],
   "source": [
    "# predicting the test set results\n",
    "y_predict=classifier.predict(x_test)\n",
    "y_predict"
   ]
  },
  {
   "cell_type": "code",
   "execution_count": 53,
   "metadata": {},
   "outputs": [
    {
     "name": "stdout",
     "output_type": "stream",
     "text": [
      "[[14910    77]\n",
      " [  237   776]]\n",
      "\n",
      "Accuracy: 98.04\n"
     ]
    }
   ],
   "source": [
    "# FINDING THE ACCURACY OF THE MODEL\n",
    "from sklearn.metrics import confusion_matrix,accuracy_score\n",
    "cm=confusion_matrix(y_test,y_predict)\n",
    "accuracy=accuracy_score(y_test,y_predict)\n",
    "print(cm)\n",
    "print()\n",
    "print(\"Accuracy: %.2f\" % (accuracy*100))"
   ]
  },
  {
   "cell_type": "markdown",
   "metadata": {},
   "source": [
    "## Conclusions on Feature Selection:\n",
    "From the above reports of three feature selection methods we conclude that \"Age,\"Occupation type\" and \"ID\" features has no significant effect on the output.\n",
    "\n",
    "The accuracy obtained while skipping these features from the data is higher..\n",
    "\n",
    "KNeighbors Classifier gives the best accuracy amongst all the classification models..So we use this model for our predictions on the test_x.."
   ]
  },
  {
   "cell_type": "markdown",
   "metadata": {},
   "source": [
    "## Predictions on the \"test_x\""
   ]
  },
  {
   "cell_type": "code",
   "execution_count": 54,
   "metadata": {},
   "outputs": [],
   "source": [
    "# importing the test dataset\n",
    "import pandas as pd\n",
    "data=pd.read_csv(\"test_x.csv\")\n",
    "train_x=X[:]\n",
    "train_y=Y[:]"
   ]
  },
  {
   "cell_type": "code",
   "execution_count": 55,
   "metadata": {},
   "outputs": [],
   "source": [
    "# encoding the categorical test data\n",
    "from sklearn.preprocessing import LabelEncoder\n",
    "le=LabelEncoder()\n",
    "data[\"Loan type\"]=le.fit_transform(data[\"Loan type\"])\n"
   ]
  },
  {
   "cell_type": "code",
   "execution_count": 56,
   "metadata": {},
   "outputs": [],
   "source": [
    "# \"occupation type\" column having three categories so we cant handle this as we handled in\"Loan type\"\n",
    "# column . here we try to skip any one category . if remaining two categories are (0,0) then that represents skiped category\n",
    "# i.e get_dummies does this for us\n",
    "xtest=pd.get_dummies(data[\"Occupation type\"],drop_first=True)\n",
    "# we have replaced the Occupation type column with the two categories i.e(Y,Z)\n",
    "x_test=pd.concat([xtest,data],axis=1)\n",
    "x_test.drop(\"Occupation type\",axis=1,inplace=True)\n",
    "test_x=x_test[[\"ID_Test\",\"Expense\",\"Income\",\"Loan type\",\"Y\",\"Z\",\"Age\",\"Score1\",\"Score2\",\"Score3\",\"Score4\",\"Score5\"]]\n"
   ]
  },
  {
   "cell_type": "code",
   "execution_count": 57,
   "metadata": {},
   "outputs": [
    {
     "data": {
      "text/plain": [
       "KNeighborsClassifier()"
      ]
     },
     "execution_count": 57,
     "metadata": {},
     "output_type": "execute_result"
    }
   ],
   "source": [
    "# fitting the KNeighborsClassifier to training data\n",
    "from sklearn.neighbors import KNeighborsClassifier\n",
    "classifier=KNeighborsClassifier()\n",
    "classifier.fit(train_x,train_y)"
   ]
  },
  {
   "cell_type": "code",
   "execution_count": 58,
   "metadata": {},
   "outputs": [
    {
     "data": {
      "text/plain": [
       "array([0., 0., 0., ..., 1., 0., 0.])"
      ]
     },
     "execution_count": 58,
     "metadata": {},
     "output_type": "execute_result"
    }
   ],
   "source": [
    "# predicting the test set results\n",
    "pred_y=classifier.predict(test_x)\n",
    "pred_y"
   ]
  },
  {
   "cell_type": "code",
   "execution_count": 59,
   "metadata": {},
   "outputs": [
    {
     "name": "stdout",
     "output_type": "stream",
     "text": [
      "          ID  Label\n",
      "0          1    0.0\n",
      "1          2    0.0\n",
      "2          3    0.0\n",
      "3          4    0.0\n",
      "4          5    0.0\n",
      "...      ...    ...\n",
      "19995  19996    0.0\n",
      "19996  19997    0.0\n",
      "19997  19998    1.0\n",
      "19998  19999    0.0\n",
      "19999  20000    0.0\n",
      "\n",
      "[20000 rows x 2 columns]\n"
     ]
    }
   ],
   "source": [
    "# converting the test_y into csv file\n",
    "id=np.arange(1,20001)\n",
    "pred_y=pd.DataFrame(pred_y,columns=[\"Label\"])\n",
    "df=pd.DataFrame(id,columns=[\"ID\"])\n",
    "df1=pd.concat([df,pred_y],axis=1)\n",
    "export_csv=df1.to_csv(\"C:\\\\Users\\\\HP\\\\Desktop\\\\Documents\\\\PROJECT MS4610\\\\pred_y.csv\",index=False,header=True)  # here we didnt export the index so the indexes are changed to default indexes\n",
    "print(df1)"
   ]
  },
  {
   "cell_type": "code",
   "execution_count": null,
   "metadata": {},
   "outputs": [],
   "source": []
  }
 ],
 "metadata": {
  "kernelspec": {
   "display_name": "Python 3",
   "language": "python",
   "name": "python3"
  },
  "language_info": {
   "codemirror_mode": {
    "name": "ipython",
    "version": 3
   },
   "file_extension": ".py",
   "mimetype": "text/x-python",
   "name": "python",
   "nbconvert_exporter": "python",
   "pygments_lexer": "ipython3",
   "version": "3.8.8"
  }
 },
 "nbformat": 4,
 "nbformat_minor": 2
}
